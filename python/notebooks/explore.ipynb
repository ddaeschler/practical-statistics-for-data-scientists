{
 "cells": [
  {
   "cell_type": "code",
   "metadata": {
    "collapsed": true,
    "pycharm": {
     "name": "#%%\n"
    }
   },
   "source": [
    "%matplotlib inline\n",
    "\n",
    "from pathlib import Path\n",
    "\n",
    "import pandas as pd\n",
    "import numpy as np\n",
    "from scipy.stats import trim_mean\n",
    "from statsmodels import robust\n",
    "import wquantiles\n",
    "\n",
    "import seaborn as sns\n",
    "import matplotlib.pylab as plt\n",
    "from pathlib import Path\n",
    "\n",
    "DATA = Path().resolve() / 'data'"
   ],
   "execution_count": 3,
   "outputs": [
    {
     "name": "stderr",
     "output_type": "stream",
     "text": [
      "/Users/daviddaeschler/Projects/personal/practical-statistics-for-data-scientists/python/notebooks/venv/lib/python3.9/site-packages/statsmodels/tools/_testing.py:19: FutureWarning: pandas.util.testing is deprecated. Use the functions in the public API at pandas.testing instead.\n",
      "  import pandas.util.testing as tm\n"
     ]
    }
   ]
  },
  {
   "cell_type": "code",
   "execution_count": 34,
   "outputs": [],
   "source": [
    "SMALL_SET = DATA / 'small_set.csv'\n",
    "SMALL_CLOSE_SET = DATA / 'small_close_set.csv'\n",
    "SMALL_FAR_SET = DATA / 'small_set_far.csv'"
   ],
   "metadata": {
    "collapsed": false,
    "pycharm": {
     "name": "#%%\n"
    }
   }
  },
  {
   "cell_type": "code",
   "execution_count": 35,
   "outputs": [
    {
     "name": "stdout",
     "output_type": "stream",
     "text": [
      "   Label  Number\n",
      "0      A       0\n",
      "1      B       1\n",
      "2      C       2\n",
      "3      D       3\n",
      "4      E       4\n",
      "5      F       5\n",
      "6      G       6\n",
      "7      H       7\n",
      "8      I       8\n",
      "9      J       9\n",
      "10     K      10\n",
      "11     L      11\n",
      "12     M      12\n",
      "13     N      13\n",
      "14     O      14\n",
      "15     P      15\n",
      "16     Q      16\n",
      "Median:  8.0\n",
      "Mean:  8.0\n",
      "StdDev:  5.049752469181039\n"
     ]
    }
   ],
   "source": [
    "from numpy import sqrt\n",
    "\n",
    "sm = pd.read_csv(SMALL_SET)\n",
    "print(sm)\n",
    "print('Median: ', sm['Number'].median())\n",
    "mean = sm['Number'].mean()\n",
    "print('Mean: ', mean)\n",
    "print('StdDev: ', sm['Number'].std())"
   ],
   "metadata": {
    "collapsed": false,
    "pycharm": {
     "name": "#%%\n"
    }
   }
  },
  {
   "cell_type": "code",
   "execution_count": 78,
   "outputs": [
    {
     "name": "stdout",
     "output_type": "stream",
     "text": [
      "   Label  Number\n",
      "0      A       0\n",
      "12     M       0\n",
      "4      E       0\n",
      "8      I       0\n",
      "16     Q       0\n",
      "5      F       1\n",
      "9      J       1\n",
      "1      B       1\n",
      "13     N       1\n",
      "2      C       2\n",
      "6      G       2\n",
      "10     K       2\n",
      "14     O       2\n",
      "7      H       3\n",
      "15     P       3\n",
      "11     L       3\n",
      "3      D       3\n",
      "Median:  1.0\n",
      "Mean:  1.411764705882353\n",
      "StdDev:  1.1757350641945108\n",
      "MAD:  1.0242214532871972\n"
     ]
    }
   ],
   "source": [
    "sm = pd.read_csv(SMALL_CLOSE_SET)\n",
    "print(sm.sort_values(by='Number'))\n",
    "print('Median: ', sm['Number'].median())\n",
    "mean = sm['Number'].mean()\n",
    "print('Mean: ', mean)\n",
    "print('StdDev: ', sm['Number'].std())\n",
    "print('MAD: ', sm['Number'].mad())"
   ],
   "metadata": {
    "collapsed": false,
    "pycharm": {
     "name": "#%%\n"
    }
   }
  },
  {
   "cell_type": "code",
   "execution_count": 39,
   "outputs": [
    {
     "name": "stdout",
     "output_type": "stream",
     "text": [
      "   Label  Number\n",
      "5      F       1\n",
      "1      B      10\n",
      "11     L      11\n",
      "12     M      12\n",
      "13     N      13\n",
      "8      I      14\n",
      "14     O      14\n",
      "15     P      15\n",
      "3      D      30\n",
      "10     K      30\n",
      "9      J      44\n",
      "4      E      45\n",
      "6      G      62\n",
      "7      H      90\n",
      "2      C      97\n",
      "16     Q      99\n",
      "0      A     100\n",
      "Median:  30.0\n",
      "Mean:  40.411764705882355\n",
      "StdDev:  35.62312946585654\n",
      "MAD:  29.896193771626294\n"
     ]
    }
   ],
   "source": [
    "sm = pd.read_csv(SMALL_FAR_SET)\n",
    "sm = sm.sort_values(by='Number')\n",
    "print(sm)\n",
    "print('Median: ', sm['Number'].median())\n",
    "mean = sm['Number'].mean()\n",
    "print('Mean: ', mean)\n",
    "print('StdDev: ', sm['Number'].std())\n",
    "print('MAD: ', sm['Number'].mad())"
   ],
   "metadata": {
    "collapsed": false,
    "pycharm": {
     "name": "#%%\n"
    }
   }
  },
  {
   "cell_type": "code",
   "execution_count": 70,
   "outputs": [
    {
     "name": "stdout",
     "output_type": "stream",
     "text": [
      "Median 6.5\n",
      "Mean 838.5\n",
      "Std 2884.8107075130283\n",
      "Trim Mean 6.2\n"
     ]
    },
    {
     "data": {
      "text/plain": "(-8.998, 2500.5]    11\n(7499.5, 9999.0]     1\n(2500.5, 5000.0]     0\n(5000.0, 7499.5]     0\nName: 0, dtype: int64"
     },
     "execution_count": 70,
     "metadata": {},
     "output_type": "execute_result"
    }
   ],
   "source": [
    "nd = pd.DataFrame([1,2,3,4,5,6,7,8,9,9,9,9999])\n",
    "print('Median', nd[0].median())\n",
    "print('Mean', nd[0].mean())\n",
    "print('Std', nd[0].std())\n",
    "print('Trim Mean', trim_mean(nd[0], 0.1))\n",
    "binned = pd.cut(nd[0], 4)\n",
    "binned.value_counts()"
   ],
   "metadata": {
    "collapsed": false,
    "pycharm": {
     "name": "#%%\n"
    }
   }
  },
  {
   "cell_type": "code",
   "execution_count": 77,
   "outputs": [
    {
     "data": {
      "text/plain": "<AxesSubplot:ylabel='Density'>"
     },
     "execution_count": 77,
     "metadata": {},
     "output_type": "execute_result"
    },
    {
     "data": {
      "text/plain": "<Figure size 288x288 with 1 Axes>",
      "image/png": "[encoded data removed]"
     },
     "metadata": {
      "needs_background": "light"
     },
     "output_type": "display_data"
    }
   ],
   "source": [
    "ax = nd[0].plot.hist(density=True, figsize=(4,4))\n",
    "nd[0].plot.density(ax=ax)"
   ],
   "metadata": {
    "collapsed": false,
    "pycharm": {
     "name": "#%%\n"
    }
   }
  },
  {
   "cell_type": "code",
   "execution_count": null,
   "outputs": [],
   "source": [],
   "metadata": {
    "collapsed": false,
    "pycharm": {
     "name": "#%%\n"
    }
   }
  }
 ],
 "metadata": {
  "kernelspec": {
   "display_name": "Python 3",
   "language": "python",
   "name": "python3"
  },
  "language_info": {
   "codemirror_mode": {
    "name": "ipython",
    "version": 2
   },
   "file_extension": ".py",
   "mimetype": "text/x-python",
   "name": "python",
   "nbconvert_exporter": "python",
   "pygments_lexer": "ipython2",
   "version": "2.7.6"
  }
 },
 "nbformat": 4,
 "nbformat_minor": 0
}